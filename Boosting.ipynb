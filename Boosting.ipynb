{
 "cells": [
  {
   "cell_type": "markdown",
   "metadata": {},
   "source": [
    "<h1> <center> <font color=\"blue\"> AdaBoost </center></h1>"
   ]
  },
  {
   "cell_type": "markdown",
   "metadata": {},
   "source": [
    "<center><img src=\"pics/Training-of-an-AdaBoost-classifier-The-first-classifier-trains-on-unweighted-data-then.png\" width=600></center>"
   ]
  },
  {
   "cell_type": "markdown",
   "metadata": {},
   "source": [
    "<link> Source : https://www.researchgate.net/figure/Training-of-an-AdaBoost-classifier-The-first-classifier-trains-on-unweighted-data-then_fig3_306054843 <\\link>"
   ]
  },
  {
   "cell_type": "markdown",
   "metadata": {},
   "source": [
    "<h3> <font color=\"blue\"> Pros </h3>"
   ]
  },
  {
   "cell_type": "markdown",
   "metadata": {},
   "source": [
    "1. Performs well on **high dimesnioal** data.\n",
    "2. Very accurate in classification tasks.\n",
    "3. Faster compared to **bagging** classifier."
   ]
  },
  {
   "cell_type": "markdown",
   "metadata": {},
   "source": [
    "<h3> <font color = \"red\"> Cons </h3>"
   ]
  },
  {
   "cell_type": "markdown",
   "metadata": {},
   "source": [
    "1. Can not be parallelized.\n",
    "2. Can be sensitive to small change in the dataset. Need to be careful with **hyper-parameter**"
   ]
  },
  {
   "cell_type": "markdown",
   "metadata": {},
   "source": [
    "<h3> <font color = \"green\"> How it works </h3>"
   ]
  },
  {
   "cell_type": "markdown",
   "metadata": {},
   "source": [
    "<p> AdaBoost works with <b>Sequential</b> trees. Each tree learns from its previous one. </p>\n",
    "\n",
    "1. Initially all training samples are given equal weights. So if we have 100 training samples, the sample weight will be 1/00 for EACH of the training sample.\n",
    "\n",
    "2. Create a Decision Stump. This will be Decision Tree with one node only.\n",
    "Calcuate the number of correct and incorrect predictions (MSE in case of Regression)\n",
    "Suppose we had 20 incorrect and 80 correct.</p2>\n",
    "\n",
    "3. Calculate by following formula</p2>\n",
    "\n",
    "    Significance = 1 / 2 (log (1-TotalError)/TotalError)\n",
    "    \n",
    "    TotalError = 20 / 100\n",
    "    \n",
    "    Significance = 0.69\n",
    "    \n",
    "    Alpha or Significance decrease with **error-rate**\n",
    "    \n",
    "    For fair coin click or random guess the error rate is 0.5 and hence alpha or significance == 0\n",
    "    \n",
    "    - For higher error rate the alpha is high on negative side i.e. -2,-1 etc.\n",
    "    \n",
    "    - For lower error rate the alpha is high on positive side i.e. 2,1 etc\n",
    " \n",
    "4. For Incorrect Observation : New Sample Weights = Sample Weight * e ^ Significance = 0.2 * 1.99 = 0.398\n",
    "    \n",
    "5. For Correct Observations : New Sample Weights = Sample Weight * e ^ - Significance = 0.2 * 0.50 = 0.10\n",
    "    \n",
    "6. Idea is to **Penalize**. wrong classification , while **depanelize** correct classification.\n",
    "\n",
    "7. This Step will Continue until the weights can not be gone down.\n",
    "    "
   ]
  },
  {
   "cell_type": "code",
   "execution_count": 8,
   "metadata": {},
   "outputs": [],
   "source": [
    "import numpy as np"
   ]
  },
  {
   "cell_type": "code",
   "execution_count": 14,
   "metadata": {},
   "outputs": [
    {
     "name": "stdout",
     "output_type": "stream",
     "text": [
      "Alpha is : 0.6931471805599453\n"
     ]
    }
   ],
   "source": [
    "error_rate = 0.2\n",
    "print(\"Alpha is : \" + str(0.5*np.log((1-error_rate)/error_rate)))"
   ]
  },
  {
   "cell_type": "code",
   "execution_count": 15,
   "metadata": {},
   "outputs": [
    {
     "name": "stdout",
     "output_type": "stream",
     "text": [
      "Alpha is :  -0.6931471805599454\n"
     ]
    }
   ],
   "source": [
    "error_rate = 0.8\n",
    "print(\"Alpha is : \", 0.5 * np.log((1-error_rate)/error_rate))"
   ]
  },
  {
   "cell_type": "markdown",
   "metadata": {},
   "source": [
    "<p><font color = \"green\"> Alpha or Significance is important to make sure weak classifier inputs are not <b>heaviliy</b> influencing the mode, while , strong classifiers \n",
    "    have <b>more</b> saying in the final model </p>"
   ]
  },
  {
   "cell_type": "markdown",
   "metadata": {},
   "source": [
    "<h3> <span style=\"background:yellow\"> Hyper-parameters </h3>"
   ]
  },
  {
   "cell_type": "markdown",
   "metadata": {},
   "source": [
    "1. base_estimator : Algorithm to be used as base learner. Classifier. Decision Tree. Can use other machine learning as well such as Logisitc Regression. \n",
    "2. n_estimator : Number of Base Estimaior. Default is 50. Number of Estimator. After this it will be iteratred\n",
    "3. learning_rate : the amount of learning with each iteration. Similar as Gradient Descent. \n",
    "4. Max_depth : Maximum depth of tree"
   ]
  },
  {
   "cell_type": "code",
   "execution_count": 9,
   "metadata": {},
   "outputs": [],
   "source": [
    "import pandas as pd\n",
    "import matplotlib.pyplot as plt\n",
    "import seaborn as sns"
   ]
  },
  {
   "cell_type": "code",
   "execution_count": 36,
   "metadata": {},
   "outputs": [],
   "source": [
    "credit = pd.read_csv('/Users/bt/Documents/GITHUB/creditcard.csv')\n",
    "credit.drop('Time', axis=1, inplace=True)"
   ]
  },
  {
   "cell_type": "code",
   "execution_count": 72,
   "metadata": {},
   "outputs": [],
   "source": [
    "from sklearn.ensemble import AdaBoostClassifier\n",
    "from sklearn.metrics import accuracy_score, recall_score, precision_score, f1_score, confusion_matrix, classification_report, precision_recall_curve\n",
    "from sklearn.model_selection import train_test_split\n",
    "from sklearn.preprocessing import MinMaxScaler, StandardScaler"
   ]
  },
  {
   "cell_type": "code",
   "execution_count": 44,
   "metadata": {},
   "outputs": [],
   "source": [
    "X = credit.drop('Class', axis=1)\n",
    "y = credit['Class'].values.ravel()"
   ]
  },
  {
   "cell_type": "code",
   "execution_count": 56,
   "metadata": {},
   "outputs": [],
   "source": [
    "X_train, X_test, y_train, y_test = train_test_split(X,y,shuffle=True,random_state=1231,stratify=y, test_size=0.3)"
   ]
  },
  {
   "cell_type": "code",
   "execution_count": 57,
   "metadata": {},
   "outputs": [],
   "source": [
    "model = AdaBoostClassifier(n_estimators=10, learning_rate=0.1, random_state=123)"
   ]
  },
  {
   "cell_type": "code",
   "execution_count": 58,
   "metadata": {},
   "outputs": [
    {
     "data": {
      "text/plain": [
       "AdaBoostClassifier(learning_rate=0.1, n_estimators=10, random_state=123)"
      ]
     },
     "execution_count": 58,
     "metadata": {},
     "output_type": "execute_result"
    }
   ],
   "source": [
    "model.fit(X_train,y_train)"
   ]
  },
  {
   "cell_type": "code",
   "execution_count": 59,
   "metadata": {},
   "outputs": [],
   "source": [
    "predictions = model.predict(X_test)"
   ]
  },
  {
   "cell_type": "code",
   "execution_count": 68,
   "metadata": {},
   "outputs": [],
   "source": [
    "decision_values = model.decision_function(X_train)"
   ]
  },
  {
   "cell_type": "code",
   "execution_count": 74,
   "metadata": {},
   "outputs": [],
   "source": [
    "precision, recall , threshold = precision_recall_curve(y_train,decision_values)"
   ]
  },
  {
   "cell_type": "code",
   "execution_count": 75,
   "metadata": {},
   "outputs": [
    {
     "data": {
      "image/png": "[encoded data removed]",
      "text/plain": [
       "<Figure size 432x288 with 1 Axes>"
      ]
     },
     "metadata": {
      "needs_background": "light"
     },
     "output_type": "display_data"
    }
   ],
   "source": [
    "plt.plot(recall,precision)\n",
    "plt.show()"
   ]
  },
  {
   "cell_type": "code",
   "execution_count": 69,
   "metadata": {},
   "outputs": [
    {
     "data": {
      "text/plain": [
       "array([-5.21358618, -5.21358618, -5.21358618, ..., -5.21358618,\n",
       "       -5.21358618, -5.21358618])"
      ]
     },
     "execution_count": 69,
     "metadata": {},
     "output_type": "execute_result"
    }
   ],
   "source": [
    "decision_values"
   ]
  },
  {
   "cell_type": "code",
   "execution_count": 61,
   "metadata": {},
   "outputs": [
    {
     "name": "stdout",
     "output_type": "stream",
     "text": [
      "              precision    recall  f1-score   support\n",
      "\n",
      "           0       1.00      1.00      1.00     85295\n",
      "           1       0.87      0.57      0.69       148\n",
      "\n",
      "    accuracy                           1.00     85443\n",
      "   macro avg       0.93      0.79      0.85     85443\n",
      "weighted avg       1.00      1.00      1.00     85443\n",
      "\n"
     ]
    }
   ],
   "source": [
    "print(classification_report(y_test,predictions))"
   ]
  },
  {
   "cell_type": "code",
   "execution_count": 65,
   "metadata": {},
   "outputs": [
    {
     "name": "stdout",
     "output_type": "stream",
     "text": [
      "              Pred : Yes  Pred : No\n",
      "Actual : Yes       85282         13\n",
      "Actual : No           63         85\n"
     ]
    }
   ],
   "source": [
    "print(pd.DataFrame(confusion_matrix(y_test,predictions), columns=['Pred : Yes','Pred : No'], index=['Actual : Yes', 'Actual : No']))"
   ]
  },
  {
   "cell_type": "code",
   "execution_count": 76,
   "metadata": {},
   "outputs": [
    {
     "name": "stdout",
     "output_type": "stream",
     "text": [
      "Precision Score :  0.8673469387755102\n",
      "Recall Score :  0.5743243243243243\n",
      "Accuracy Score :  0.9991105181231933\n"
     ]
    }
   ],
   "source": [
    "print('Precision Score : ', precision_score(y_test,predictions))\n",
    "print('Recall Score : ', recall_score(y_test,predictions))\n",
    "print('Accuracy Score : ', accuracy_score(y_test,predictions))"
   ]
  },
  {
   "cell_type": "code",
   "execution_count": 77,
   "metadata": {},
   "outputs": [],
   "source": [
    "from sklearn.model_selection import cross_validate"
   ]
  },
  {
   "cell_type": "code",
   "execution_count": 78,
   "metadata": {},
   "outputs": [],
   "source": [
    "predicted = cross_validate(AdaBoostClassifier(),X_train,y_train,cv=5,scoring=\"recall\")"
   ]
  },
  {
   "cell_type": "code",
   "execution_count": 81,
   "metadata": {},
   "outputs": [
    {
     "name": "stdout",
     "output_type": "stream",
     "text": [
      "0.6803069053708439\n"
     ]
    }
   ],
   "source": [
    "print(np.mean(predicted['test_score']))"
   ]
  },
  {
   "cell_type": "code",
   "execution_count": 84,
   "metadata": {},
   "outputs": [],
   "source": [
    "from sklearn.model_selection import GridSearchCV\n",
    "from pprint import pprint"
   ]
  },
  {
   "cell_type": "code",
   "execution_count": 88,
   "metadata": {},
   "outputs": [
    {
     "name": "stdout",
     "output_type": "stream",
     "text": [
      "{'algorithm': 'SAMME.R',\n",
      " 'base_estimator': None,\n",
      " 'learning_rate': 1.0,\n",
      " 'n_estimators': 50,\n",
      " 'random_state': None}\n"
     ]
    }
   ],
   "source": [
    "ada = AdaBoostClassifier()\n",
    "\n",
    "pprint(ada.get_params())"
   ]
  },
  {
   "cell_type": "code",
   "execution_count": 108,
   "metadata": {},
   "outputs": [],
   "source": [
    "n_estimator = [int(x) for x in np.linspace(start=10,stop=50,num=5)]\n",
    "learning_rate = [float(x) for x in np.linspace(start=0.5,stop=1,num=5)]"
   ]
  },
  {
   "cell_type": "code",
   "execution_count": 127,
   "metadata": {},
   "outputs": [],
   "source": [
    "params = {\n",
    "      'n_estimators': np.arange(100,300,50),\n",
    "     'learning_rate': [0.01, 0.05, 0.1, 1],\n",
    "}"
   ]
  },
  {
   "cell_type": "code",
   "execution_count": 128,
   "metadata": {},
   "outputs": [
    {
     "data": {
      "text/plain": [
       "{'n_estimators': array([100, 150, 200, 250]),\n",
       " 'learning_rate': [0.01, 0.05, 0.1, 1]}"
      ]
     },
     "execution_count": 128,
     "metadata": {},
     "output_type": "execute_result"
    }
   ],
   "source": [
    "params"
   ]
  },
  {
   "cell_type": "code",
   "execution_count": 129,
   "metadata": {},
   "outputs": [],
   "source": [
    "ada_grid = GridSearchCV(AdaBoostClassifier(),param_grid=params,n_jobs=-1,cv=5,scoring=\"recall\")"
   ]
  },
  {
   "cell_type": "code",
   "execution_count": 130,
   "metadata": {},
   "outputs": [
    {
     "data": {
      "text/plain": [
       "GridSearchCV(cv=5, estimator=AdaBoostClassifier(), n_jobs=-1,\n",
       "             param_grid={'learning_rate': [0.01, 0.05, 0.1, 1],\n",
       "                         'n_estimators': array([100, 150, 200, 250])},\n",
       "             scoring='recall')"
      ]
     },
     "execution_count": 130,
     "metadata": {},
     "output_type": "execute_result"
    }
   ],
   "source": [
    "ada_grid.fit(X_train,y_train)"
   ]
  },
  {
   "cell_type": "code",
   "execution_count": 131,
   "metadata": {},
   "outputs": [
    {
     "data": {
      "text/plain": [
       "AdaBoostClassifier(learning_rate=1, n_estimators=250)"
      ]
     },
     "execution_count": 131,
     "metadata": {},
     "output_type": "execute_result"
    }
   ],
   "source": [
    "ada_grid.best_estimator_"
   ]
  },
  {
   "cell_type": "code",
   "execution_count": 132,
   "metadata": {},
   "outputs": [
    {
     "data": {
      "text/plain": [
       "0.7468456947996589"
      ]
     },
     "execution_count": 132,
     "metadata": {},
     "output_type": "execute_result"
    }
   ],
   "source": [
    "ada_grid.best_score_"
   ]
  },
  {
   "cell_type": "code",
   "execution_count": 133,
   "metadata": {},
   "outputs": [
    {
     "data": {
      "text/plain": [
       "{'learning_rate': 1, 'n_estimators': 250}"
      ]
     },
     "execution_count": 133,
     "metadata": {},
     "output_type": "execute_result"
    }
   ],
   "source": [
    "ada_grid.best_params_"
   ]
  },
  {
   "cell_type": "code",
   "execution_count": 134,
   "metadata": {},
   "outputs": [],
   "source": [
    "new_model = AdaBoostClassifier(**ada_grid.best_params_)"
   ]
  },
  {
   "cell_type": "code",
   "execution_count": null,
   "metadata": {},
   "outputs": [],
   "source": [
    "new_model.fit(X_train,y_train)"
   ]
  }
 ],
 "metadata": {
  "kernelspec": {
   "display_name": "Python 3",
   "language": "python",
   "name": "python3"
  },
  "language_info": {
   "codemirror_mode": {
    "name": "ipython",
    "version": 3
   },
   "file_extension": ".py",
   "mimetype": "text/x-python",
   "name": "python",
   "nbconvert_exporter": "python",
   "pygments_lexer": "ipython3",
   "version": "3.8.5"
  }
 },
 "nbformat": 4,
 "nbformat_minor": 4
}
