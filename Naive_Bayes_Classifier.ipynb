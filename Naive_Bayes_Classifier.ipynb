{
 "cells": [
  {
   "cell_type": "markdown",
   "metadata": {},
   "source": [
    "<h1> <center> Naive Bayes Classifier </center></h1>"
   ]
  },
  {
   "cell_type": "markdown",
   "metadata": {},
   "source": [
    "<center><img src=\"naive_bayes.png\" alt=\"Drawing\" style=\"width: 300px\"></center>"
   ]
  },
  {
   "cell_type": "code",
   "execution_count": 17,
   "metadata": {},
   "outputs": [],
   "source": [
    "# Importing libraries\n",
    "\n",
    "import pandas as pd\n",
    "import seaborn as sns\n",
    "\n",
    "import numpy as np\n",
    "from sklearn.model_selection import train_test_split"
   ]
  },
  {
   "cell_type": "code",
   "execution_count": 15,
   "metadata": {},
   "outputs": [],
   "source": [
    "# Efficient Supervises Algorithm and can be used with small training data\n",
    "# Considers \"every pair of feature are independent to each other\"\n",
    "# Performs well in high dimension data"
   ]
  },
  {
   "cell_type": "code",
   "execution_count": 18,
   "metadata": {},
   "outputs": [],
   "source": [
    "# Roots of this classifier are in \"Conditional Probablity\""
   ]
  },
  {
   "cell_type": "code",
   "execution_count": 56,
   "metadata": {},
   "outputs": [],
   "source": [
    "# P(A|B) ==> Posterior Probablity\n",
    "# P(B|A) ==> Likelihood\n",
    "# P(A) ==> Class Prior Probablity\n",
    "# P(B) ==> Predictor Prior Probablity\n",
    "\n",
    "# P(A|B) = P(B|A) * P(A) / P(B)\n",
    "\n",
    "# Probablity for each individual feature and target variable is multipied to get the overall probablity\n",
    "\n",
    "# Let's say we have A,B, and C Varible and T is the target variable\n",
    "\n",
    "# P(A | T) = P(T)*P(A|T) / P(A)\n",
    "# P(B | T) = P(T)*P(B|T) / P(B)\n",
    "\n",
    "# T = P(A|T) * P(B|T) ==> Probablity of getting the target\n",
    "\n",
    "# Three types of Naive Bayes Classifier \n",
    "\n",
    "# Bernoulli\n",
    "# Gaussian\n",
    "# Multinominal\n"
   ]
  },
  {
   "cell_type": "code",
   "execution_count": 8,
   "metadata": {},
   "outputs": [],
   "source": [
    "credit_card = pd.read_csv('/Users/bt/Documents/GITHUB/creditcard.csv')"
   ]
  },
  {
   "cell_type": "code",
   "execution_count": 11,
   "metadata": {},
   "outputs": [],
   "source": [
    "credit_card.drop('Time', axis=1, inplace=True)"
   ]
  },
  {
   "cell_type": "code",
   "execution_count": 12,
   "metadata": {},
   "outputs": [
    {
     "data": {
      "text/plain": [
       "Index(['V1', 'V2', 'V3', 'V4', 'V5', 'V6', 'V7', 'V8', 'V9', 'V10', 'V11',\n",
       "       'V12', 'V13', 'V14', 'V15', 'V16', 'V17', 'V18', 'V19', 'V20', 'V21',\n",
       "       'V22', 'V23', 'V24', 'V25', 'V26', 'V27', 'V28', 'Amount', 'Class'],\n",
       "      dtype='object')"
      ]
     },
     "execution_count": 12,
     "metadata": {},
     "output_type": "execute_result"
    }
   ],
   "source": [
    "credit_card.columns"
   ]
  },
  {
   "cell_type": "code",
   "execution_count": 91,
   "metadata": {},
   "outputs": [],
   "source": [
    "credit_card = credit_card.replace([np.inf, -np.inf], np.nan)\n",
    "\n",
    "credit_card.dropna(inplace=True)"
   ]
  },
  {
   "cell_type": "code",
   "execution_count": 92,
   "metadata": {},
   "outputs": [],
   "source": [
    "X = credit_card.drop('Class', axis=1)\n",
    "y = credit_card['Class']"
   ]
  },
  {
   "cell_type": "code",
   "execution_count": 93,
   "metadata": {},
   "outputs": [],
   "source": [
    "X = X.replace([np.inf,-np.inf], np.nan)\n",
    "\n",
    "X.dropna(inplace=True)"
   ]
  },
  {
   "cell_type": "code",
   "execution_count": 94,
   "metadata": {},
   "outputs": [],
   "source": [
    "X_train,X_t, y_train, y_t = train_test_split(X,y,stratify=y,test_size=0.4)\n",
    "X_test, X_valid, y_test, y_valid = train_test_split(X_t,y_t,stratify=y_t,test_size=0.3)"
   ]
  },
  {
   "cell_type": "code",
   "execution_count": 95,
   "metadata": {},
   "outputs": [
    {
     "name": "stdout",
     "output_type": "stream",
     "text": [
      "(170884, 29) (79746, 29) (34177, 29)\n"
     ]
    }
   ],
   "source": [
    "print(X_train.shape, X_test.shape, X_valid.shape)"
   ]
  },
  {
   "cell_type": "code",
   "execution_count": 96,
   "metadata": {},
   "outputs": [
    {
     "name": "stdout",
     "output_type": "stream",
     "text": [
      "(170884,) (79746,) (34177,)\n"
     ]
    }
   ],
   "source": [
    "print(y_train.shape, y_test.shape, y_valid.shape)"
   ]
  },
  {
   "cell_type": "code",
   "execution_count": 97,
   "metadata": {},
   "outputs": [],
   "source": [
    "from sklearn.preprocessing import MinMaxScaler\n",
    "\n",
    "scaler = MinMaxScaler()\n",
    "\n",
    "X_train_scaled = scaler.fit_transform(X_train)\n",
    "\n",
    "X_test_scaled = scaler.fit(X_test)"
   ]
  },
  {
   "cell_type": "code",
   "execution_count": 98,
   "metadata": {},
   "outputs": [],
   "source": [
    "from scipy.stats import normaltest"
   ]
  },
  {
   "cell_type": "code",
   "execution_count": 99,
   "metadata": {},
   "outputs": [
    {
     "name": "stdout",
     "output_type": "stream",
     "text": [
      "Column Name:  V1 Not Normal\n",
      "Column Name:  V2 Not Normal\n",
      "Column Name:  V3 Not Normal\n",
      "Column Name:  V4 Not Normal\n",
      "Column Name:  V5 Not Normal\n",
      "Column Name:  V6 Not Normal\n",
      "Column Name:  V7 Not Normal\n",
      "Column Name:  V8 Not Normal\n",
      "Column Name:  V9 Not Normal\n",
      "Column Name:  V10 Not Normal\n",
      "Column Name:  V11 Not Normal\n",
      "Column Name:  V12 Not Normal\n",
      "Column Name:  V13 Not Normal\n",
      "Column Name:  V14 Not Normal\n",
      "Column Name:  V15 Not Normal\n",
      "Column Name:  V16 Not Normal\n",
      "Column Name:  V17 Not Normal\n",
      "Column Name:  V18 Not Normal\n",
      "Column Name:  V19 Not Normal\n",
      "Column Name:  V20 Not Normal\n",
      "Column Name:  V21 Not Normal\n",
      "Column Name:  V22 Not Normal\n",
      "Column Name:  V23 Not Normal\n",
      "Column Name:  V24 Not Normal\n",
      "Column Name:  V25 Not Normal\n",
      "Column Name:  V26 Not Normal\n",
      "Column Name:  V27 Not Normal\n",
      "Column Name:  V28 Not Normal\n",
      "Column Name:  Amount Not Normal\n"
     ]
    }
   ],
   "source": [
    "# To check if the features are normal or gaussian\n",
    "\n",
    "for t in X_train.columns:\n",
    "    stat, p = normaltest(X_train[t])\n",
    "    alpha = 0.5\n",
    "    if p > alpha:\n",
    "        print(\"Column Name : \", t, \"looks Gaussian\")\n",
    "    else:\n",
    "        print(\"Column Name: \", t, \"Not Normal\")\n",
    "\n",
    "stats = list(zip(column_name,p_values))"
   ]
  },
  {
   "cell_type": "code",
   "execution_count": 100,
   "metadata": {},
   "outputs": [],
   "source": [
    "from sklearn.naive_bayes import GaussianNB"
   ]
  },
  {
   "cell_type": "code",
   "execution_count": 146,
   "metadata": {},
   "outputs": [],
   "source": [
    "model = GaussianNB()"
   ]
  },
  {
   "cell_type": "code",
   "execution_count": 147,
   "metadata": {},
   "outputs": [],
   "source": [
    "fitted_model = model.fit(X_train,y_train)"
   ]
  },
  {
   "cell_type": "code",
   "execution_count": 148,
   "metadata": {},
   "outputs": [],
   "source": [
    "predictions = fitted_model.predict(X_test)"
   ]
  },
  {
   "cell_type": "code",
   "execution_count": 107,
   "metadata": {},
   "outputs": [],
   "source": [
    "from sklearn.metrics import confusion_matrix, recall_score, accuracy_score, f1_score"
   ]
  },
  {
   "cell_type": "code",
   "execution_count": 108,
   "metadata": {},
   "outputs": [
    {
     "name": "stdout",
     "output_type": "stream",
     "text": [
      "0.977967546961603\n"
     ]
    }
   ],
   "source": [
    "print(accuracy_score(y_test,predictions))"
   ]
  },
  {
   "cell_type": "code",
   "execution_count": 109,
   "metadata": {},
   "outputs": [
    {
     "name": "stdout",
     "output_type": "stream",
     "text": [
      "0.8260869565217391\n"
     ]
    }
   ],
   "source": [
    "print(recall_score(y_test,predictions))"
   ]
  },
  {
   "cell_type": "code",
   "execution_count": 110,
   "metadata": {},
   "outputs": [
    {
     "name": "stdout",
     "output_type": "stream",
     "text": [
      "0.11486146095717883\n"
     ]
    }
   ],
   "source": [
    "print(f1_score(y_test,predictions))"
   ]
  },
  {
   "cell_type": "code",
   "execution_count": 111,
   "metadata": {},
   "outputs": [
    {
     "name": "stdout",
     "output_type": "stream",
     "text": [
      "[[77875  1733]\n",
      " [   24   114]]\n"
     ]
    }
   ],
   "source": [
    "print(confusion_matrix(y_test,predictions))"
   ]
  },
  {
   "cell_type": "markdown",
   "metadata": {},
   "source": [
    "<h2><center> ROC Curve </center></h2>"
   ]
  },
  {
   "cell_type": "code",
   "execution_count": 161,
   "metadata": {},
   "outputs": [],
   "source": [
    "# ROC Curve\n",
    "\n",
    "from sklearn.metrics import roc_curve\n",
    "from sklearn.metrics import roc_auc_score"
   ]
  },
  {
   "cell_type": "code",
   "execution_count": 131,
   "metadata": {},
   "outputs": [
    {
     "data": {
      "text/html": [
       "<div>\n",
       "<style scoped>\n",
       "    .dataframe tbody tr th:only-of-type {\n",
       "        vertical-align: middle;\n",
       "    }\n",
       "\n",
       "    .dataframe tbody tr th {\n",
       "        vertical-align: top;\n",
       "    }\n",
       "\n",
       "    .dataframe thead th {\n",
       "        text-align: right;\n",
       "    }\n",
       "</style>\n",
       "<table border=\"1\" class=\"dataframe\">\n",
       "  <thead>\n",
       "    <tr style=\"text-align: right;\">\n",
       "      <th></th>\n",
       "      <th>Predicted_0</th>\n",
       "      <th>Predicted_1</th>\n",
       "    </tr>\n",
       "  </thead>\n",
       "  <tbody>\n",
       "    <tr>\n",
       "      <th>True_0</th>\n",
       "      <td>77875</td>\n",
       "      <td>1733</td>\n",
       "    </tr>\n",
       "    <tr>\n",
       "      <th>True_1</th>\n",
       "      <td>24</td>\n",
       "      <td>114</td>\n",
       "    </tr>\n",
       "  </tbody>\n",
       "</table>\n",
       "</div>"
      ],
      "text/plain": [
       "        Predicted_0  Predicted_1\n",
       "True_0        77875         1733\n",
       "True_1           24          114"
      ]
     },
     "execution_count": 131,
     "metadata": {},
     "output_type": "execute_result"
    }
   ],
   "source": [
    "pd.DataFrame(confusion_matrix(y_test,predictions),columns=['Predicted_0','Predicted_1'],index=['True_0','True_1'])"
   ]
  },
  {
   "cell_type": "code",
   "execution_count": 132,
   "metadata": {},
   "outputs": [],
   "source": [
    "tn, fp, fn, tp = confusion_matrix(y_test,predictions).ravel()"
   ]
  },
  {
   "cell_type": "code",
   "execution_count": 185,
   "metadata": {},
   "outputs": [
    {
     "name": "stdout",
     "output_type": "stream",
     "text": [
      "77875  : Were actually negative and were predicted negative\n",
      "114 : Were actually positive and were predicted positive\n",
      "1733 : Were actually negative but were predicted positive\n",
      "24 : Were actually positive but were predicted negative\n"
     ]
    }
   ],
   "source": [
    "print(tn ,\" : Were actually negative and were predicted negative\")\n",
    "print(tp , \": Were actually positive and were predicted positive\")\n",
    "print(fp, \": Were actually negative but were predicted positive\")\n",
    "print(fn, \": Were actually positive but were predicted negative\")"
   ]
  },
  {
   "cell_type": "code",
   "execution_count": 143,
   "metadata": {},
   "outputs": [],
   "source": [
    "# Now lets look at the same for many thresholds"
   ]
  },
  {
   "cell_type": "code",
   "execution_count": 153,
   "metadata": {},
   "outputs": [],
   "source": [
    "# only for positive class\n",
    "prediction_estimate = fitted_model.predict_proba(y_test.values.reshape(-1,1))[:,1]"
   ]
  },
  {
   "cell_type": "code",
   "execution_count": 160,
   "metadata": {},
   "outputs": [],
   "source": [
    "noskill_prob = [0 for _ in range(len(y_test))]"
   ]
  },
  {
   "cell_type": "code",
   "execution_count": 162,
   "metadata": {},
   "outputs": [],
   "source": [
    "noskill_auc = roc_auc_score(y_test,noskill_prob)"
   ]
  },
  {
   "cell_type": "code",
   "execution_count": 165,
   "metadata": {},
   "outputs": [],
   "source": [
    "nbc_auc = roc_auc_score(y_test,prediction_estimate)"
   ]
  },
  {
   "cell_type": "code",
   "execution_count": 167,
   "metadata": {},
   "outputs": [],
   "source": [
    "ns_fpr, ns_tpr, _ = roc_curve(y_test,noskill_prob)"
   ]
  },
  {
   "cell_type": "code",
   "execution_count": 170,
   "metadata": {},
   "outputs": [],
   "source": [
    "nbc_fpr, nbc_tpr, _ = roc_curve(y_test,prediction_estimate)"
   ]
  },
  {
   "cell_type": "code",
   "execution_count": 173,
   "metadata": {},
   "outputs": [],
   "source": [
    "from matplotlib import pyplot"
   ]
  },
  {
   "cell_type": "code",
   "execution_count": 187,
   "metadata": {},
   "outputs": [
    {
     "data": {
      "image/png": "[encoded data removed]",
      "text/plain": [
       "<Figure size 864x576 with 1 Axes>"
      ]
     },
     "metadata": {
      "needs_background": "light"
     },
     "output_type": "display_data"
    }
   ],
   "source": [
    "pyplot.figure(figsize=(12,8))\n",
    "pyplot.plot(ns_fpr,ns_tpr, linestyle='--', label=\"No Skill\")\n",
    "pyplot.plot(nbc_fpr,nbc_tpr,marker=\".\", label=\"Naive Bayes Classifier\")\n",
    "pyplot.xlabel(\"False Positive Rate\")\n",
    "pyplot.ylabel(\"True Positive Rate\")\n",
    "pyplot.legend()\n",
    "pyplot.show()"
   ]
  },
  {
   "cell_type": "markdown",
   "metadata": {},
   "source": [
    "<h2><center>Precision Recall Curve </center></h2>"
   ]
  },
  {
   "cell_type": "code",
   "execution_count": 189,
   "metadata": {},
   "outputs": [],
   "source": [
    "from sklearn.metrics import precision_recall_curve\n",
    "from sklearn.metrics import f1_score\n",
    "from sklearn.metrics import auc"
   ]
  },
  {
   "cell_type": "code",
   "execution_count": 193,
   "metadata": {},
   "outputs": [],
   "source": [
    "nbc_precision, nbc_recall, _ = precision_recall_curve(y_test,prediction_estimate)"
   ]
  },
  {
   "cell_type": "code",
   "execution_count": 198,
   "metadata": {},
   "outputs": [],
   "source": [
    "ns_precision, ns_recall, _ = precision_recall_curve(y_test,noskill_prob)"
   ]
  },
  {
   "cell_type": "code",
   "execution_count": 201,
   "metadata": {},
   "outputs": [],
   "source": [
    "nbc_f1_score = f1_score(y_test,predictions)"
   ]
  },
  {
   "cell_type": "code",
   "execution_count": null,
   "metadata": {},
   "outputs": [],
   "source": [
    "no_skill = len(testy[testy==1]) / len(testy)\n",
    "pyplot.plot([0, 1], [no_skill, no_skill], linestyle='--', label='No Skill')\n",
    "pyplot.plot(lr_recall, lr_precision, marker='.', label='Logistic')"
   ]
  },
  {
   "cell_type": "code",
   "execution_count": 215,
   "metadata": {},
   "outputs": [],
   "source": [
    "no_skill = len(y_test[y_test.values==1]) / len(y_test)"
   ]
  },
  {
   "cell_type": "code",
   "execution_count": 224,
   "metadata": {},
   "outputs": [
    {
     "data": {
      "image/png": "[encoded data removed]",
      "text/plain": [
       "<Figure size 864x576 with 1 Axes>"
      ]
     },
     "metadata": {
      "needs_background": "light"
     },
     "output_type": "display_data"
    }
   ],
   "source": [
    "pyplot.figure(figsize=(12,8))\n",
    "pyplot.plot([0,1],[no_skill,no_skill],linestyle=\"--\", label='No Skill')\n",
    "pyplot.plot(nbc_recall,nbc_precision,marker='.', label='Naive Bayes Classifier')\n",
    "pyplot.xlabel(\"Recall\")\n",
    "pyplot.ylabel(\"Precision\")\n",
    "pyplot.legend()\n",
    "pyplot.show()"
   ]
  },
  {
   "cell_type": "markdown",
   "metadata": {},
   "source": [
    "<h2><center> Calibration Curve </center></h2>"
   ]
  },
  {
   "cell_type": "code",
   "execution_count": 235,
   "metadata": {},
   "outputs": [],
   "source": [
    "# To identify how good a model is to predict a class\n",
    "# The calibration curve is best when its closely fitting the 45 degree line"
   ]
  },
  {
   "cell_type": "code",
   "execution_count": 225,
   "metadata": {},
   "outputs": [],
   "source": [
    "from sklearn.calibration import calibration_curve"
   ]
  },
  {
   "cell_type": "code",
   "execution_count": 227,
   "metadata": {},
   "outputs": [],
   "source": [
    "prob_true, prob_pred = calibration_curve(y_test,prediction_estimate,n_bins=10,normalize=True)"
   ]
  },
  {
   "cell_type": "code",
   "execution_count": 241,
   "metadata": {},
   "outputs": [
    {
     "data": {
      "image/png": "[encoded data removed]",
      "text/plain": [
       "<Figure size 864x576 with 1 Axes>"
      ]
     },
     "metadata": {
      "needs_background": "light"
     },
     "output_type": "display_data"
    }
   ],
   "source": [
    "pyplot.figure(figsize=(12,8))\n",
    "pyplot.plot([0,1],[0,1], linestyle=\"--\", label=\"Ideally Calibrated\")\n",
    "pyplot.plot(prob_true,prob_pred, marker=\".\", label=\"Naive Bayes Classifier\")\n",
    "pyplot.xlabel(\"Average predicted probability in each bin\")\n",
    "pyplot.ylabel(\"Ratio of positive outcomes\")\n",
    "pyplot.legend()\n",
    "pyplot.show()"
   ]
  },
  {
   "cell_type": "markdown",
   "metadata": {},
   "source": [
    "<h2><center> Learning Curve </center><h2>"
   ]
  },
  {
   "cell_type": "code",
   "execution_count": 242,
   "metadata": {},
   "outputs": [],
   "source": [
    "# To identify Bias and Variance\n",
    "\n",
    "# High Bias ==> Underfitted\n",
    "# High Variance ==> Overfitted"
   ]
  },
  {
   "cell_type": "markdown",
   "metadata": {},
   "source": [
    "<a href=\"https://www.geeksforgeeks.org/using-learning-curves-ml/\">Geeks for Geeks Explanation</a>"
   ]
  },
  {
   "cell_type": "markdown",
   "metadata": {},
   "source": [
    "\n",
    "<p> <b>Bias</b>: \n",
    "It is basically nothing but the difference between the average prediction of a model and the correct value of the prediction. Models with high bias make a lot of assumptions about the training data. This leads to over-simplification of the model and may cause a high error on both the training and testing sets. However, this also makes the model faster to learn and easy to understand. Generally, linear model algorithms like Linear Regression have a high bias.\n",
    "</p>\n",
    "<p>\n",
    "<b>Variance</b>: \n",
    "It is the amount a model’s prediction will change if the training data is changed. Ideally, a machine learning model should not vary too much with a change in training sets i.e., the algorithm should be good at picking up important details about the data, regardless of the data itself. Example of algorithms with high variance is Decision Trees, Support Vector Machines (SVM).\n",
    "\n",
    "Ideally, we would want a model with low variance as well as low bias. To achieve lower bias, we need more training data but with higher training data, the variance of the model will increase. So, we have to strike a balance between the two. This is called the bias-variance \n",
    "    \n",
    "</p>"
   ]
  },
  {
   "cell_type": "code",
   "execution_count": 244,
   "metadata": {},
   "outputs": [],
   "source": [
    "# The learning curve shows how the error changes as we change the number of training size increases"
   ]
  },
  {
   "cell_type": "code",
   "execution_count": 245,
   "metadata": {},
   "outputs": [],
   "source": [
    "from sklearn.model_selection import learning_curve"
   ]
  },
  {
   "cell_type": "code",
   "execution_count": 247,
   "metadata": {},
   "outputs": [],
   "source": [
    "train_size , train_score, test_scores = learning_curve(GaussianNB(),\n",
    "                                                      X_train,\n",
    "                                                      y_train,\n",
    "                                                      cv=10,\n",
    "                                                      scoring='recall',\n",
    "                                                      n_jobs=-1,\n",
    "                                                      train_sizes=np.linspace(0.01,1.0,50))"
   ]
  },
  {
   "cell_type": "code",
   "execution_count": 251,
   "metadata": {},
   "outputs": [],
   "source": [
    "train_means = np.mean(train_score,axis=1)\n",
    "test_means = np.mean(test_scores,axis=1)"
   ]
  },
  {
   "cell_type": "code",
   "execution_count": 279,
   "metadata": {},
   "outputs": [
    {
     "data": {
      "image/png": "[encoded data removed]",
      "text/plain": [
       "<Figure size 864x576 with 1 Axes>"
      ]
     },
     "metadata": {
      "needs_background": "light"
     },
     "output_type": "display_data"
    }
   ],
   "source": [
    "pyplot.figure(figsize=(12,8))\n",
    "pyplot.plot(train_size,train_means,'--', color=\"g\",  label=\"Training Scores\")\n",
    "pyplot.plot(train_size,test_means,color=\"b\", label=\"Test Scores\")\n",
    "pyplot.xlabel(\"Train Size\")\n",
    "pyplot.ylabel(\"Recall Performance\")\n",
    "pyplot.legend()\n",
    "pyplot.tight_layout()\n",
    "pyplot.show()"
   ]
  },
  {
   "cell_type": "code",
   "execution_count": null,
   "metadata": {},
   "outputs": [],
   "source": []
  },
  {
   "cell_type": "code",
   "execution_count": null,
   "metadata": {},
   "outputs": [],
   "source": []
  },
  {
   "cell_type": "code",
   "execution_count": null,
   "metadata": {},
   "outputs": [],
   "source": []
  },
  {
   "cell_type": "code",
   "execution_count": null,
   "metadata": {},
   "outputs": [],
   "source": []
  },
  {
   "cell_type": "code",
   "execution_count": null,
   "metadata": {},
   "outputs": [],
   "source": []
  },
  {
   "cell_type": "code",
   "execution_count": null,
   "metadata": {},
   "outputs": [],
   "source": []
  },
  {
   "cell_type": "code",
   "execution_count": null,
   "metadata": {},
   "outputs": [],
   "source": []
  },
  {
   "cell_type": "code",
   "execution_count": null,
   "metadata": {},
   "outputs": [],
   "source": []
  }
 ],
 "metadata": {
  "kernelspec": {
   "display_name": "Python 3",
   "language": "python",
   "name": "python3"
  },
  "language_info": {
   "codemirror_mode": {
    "name": "ipython",
    "version": 3
   },
   "file_extension": ".py",
   "mimetype": "text/x-python",
   "name": "python",
   "nbconvert_exporter": "python",
   "pygments_lexer": "ipython3",
   "version": "3.8.5"
  }
 },
 "nbformat": 4,
 "nbformat_minor": 4
}
